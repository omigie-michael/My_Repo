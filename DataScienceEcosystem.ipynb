{
 "cells": [
  {
   "cell_type": "markdown",
   "id": "655ba73f",
   "metadata": {},
   "source": [
    "#  Data Science Tools and Ecosystem"
   ]
  },
  {
   "cell_type": "markdown",
   "id": "f2d1cc9b",
   "metadata": {},
   "source": [
    "In this notebook, Data Science tools and ecosystem are summerized."
   ]
  },
  {
   "cell_type": "markdown",
   "id": "0fa84d0c",
   "metadata": {},
   "source": [
    "**Objectives:**\n",
    "_________________\n",
    "- Categories of Data Science Tools and Examples\n",
    "- Commonly used languages in Data Science\n",
    "- Libraries and APIs in Data Science"
   ]
  },
  {
   "cell_type": "markdown",
   "id": "096b9c79",
   "metadata": {},
   "source": [
    "Some of the popular languages that Data Scientists use are:\n",
    "\n",
    "1. Python\n",
    "2. Structured Query Language (SQL)\n",
    "3. R"
   ]
  },
  {
   "cell_type": "markdown",
   "id": "d0df0e8d",
   "metadata": {},
   "source": [
    "Some of the commonly used libraries used by Data Scientists include:\n",
    "\n",
    "1. Pandas\n",
    "2. NumPy\n",
    "3. Matplotlib"
   ]
  },
  {
   "cell_type": "markdown",
   "id": "3aae4625",
   "metadata": {},
   "source": [
    "**Data Science Tools**\n",
    "__________________\n",
    "JupitarLab\n",
    "\n",
    "VS Code\n",
    "\n",
    "Rstudio\n"
   ]
  },
  {
   "cell_type": "markdown",
   "id": "7813ae40",
   "metadata": {},
   "source": [
    "### Below are a few examples of evaluating arithmetic expressions in Python"
   ]
  },
  {
   "cell_type": "code",
   "execution_count": 3,
   "id": "4a5a7b9c",
   "metadata": {},
   "outputs": [
    {
     "data": {
      "text/plain": [
       "17"
      ]
     },
     "execution_count": 3,
     "metadata": {},
     "output_type": "execute_result"
    }
   ],
   "source": [
    "# This is a simple arithmetic expresion to multiply and add integer:\n",
    "(3*4) + 5"
   ]
  },
  {
   "cell_type": "code",
   "execution_count": 5,
   "id": "e222505b",
   "metadata": {},
   "outputs": [
    {
     "name": "stdout",
     "output_type": "stream",
     "text": [
      "time in hours: 3.3333333333333335\n"
     ]
    }
   ],
   "source": [
    "# This will convert 200 minutes to hours by dividing by 60:\n",
    "\n",
    "time = 200\n",
    "converted = (int(time)/60)\n",
    "print(\"time in hours: \" + str(converted))"
   ]
  },
  {
   "cell_type": "markdown",
   "id": "29a0897f",
   "metadata": {},
   "source": [
    "## Author\n",
    "**Omigie Michael J**"
   ]
  }
 ],
 "metadata": {
  "kernelspec": {
   "display_name": "Python 3 (ipykernel)",
   "language": "python",
   "name": "python3"
  },
  "language_info": {
   "codemirror_mode": {
    "name": "ipython",
    "version": 3
   },
   "file_extension": ".py",
   "mimetype": "text/x-python",
   "name": "python",
   "nbconvert_exporter": "python",
   "pygments_lexer": "ipython3",
   "version": "3.11.4"
  }
 },
 "nbformat": 4,
 "nbformat_minor": 5
}
